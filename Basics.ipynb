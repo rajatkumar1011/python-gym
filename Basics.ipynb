{
 "cells": [
  {
   "cell_type": "markdown",
   "id": "b72ccb03",
   "metadata": {},
   "source": [
    "# Python Basics Exercises"
   ]
  },
  {
   "cell_type": "markdown",
   "id": "b7973bb9-00cb-454e-9f16-3a118fb6c5d2",
   "metadata": {},
   "source": [
    "1. Make a List of all Odd Numbers from 1 to 1000 using List Comprehension"
   ]
  },
  {
   "cell_type": "code",
   "execution_count": 6,
   "id": "34e109e9-5b6d-4f30-a65d-bbdee8be47bb",
   "metadata": {},
   "outputs": [
    {
     "name": "stdout",
     "output_type": "stream",
     "text": [
      "[1, 3, 5, 7, 9, 11, 13, 15, 17, 19, 21, 23, 25, 27, 29, 31, 33, 35, 37, 39, 41, 43, 45, 47, 49, 51, 53, 55, 57, 59, 61, 63, 65, 67, 69, 71, 73, 75, 77, 79, 81, 83, 85, 87, 89, 91, 93, 95, 97, 99, 101, 103, 105, 107, 109, 111, 113, 115, 117, 119, 121, 123, 125, 127, 129, 131, 133, 135, 137, 139, 141, 143, 145, 147, 149, 151, 153, 155, 157, 159, 161, 163, 165, 167, 169, 171, 173, 175, 177, 179, 181, 183, 185, 187, 189, 191, 193, 195, 197, 199, 201, 203, 205, 207, 209, 211, 213, 215, 217, 219, 221, 223, 225, 227, 229, 231, 233, 235, 237, 239, 241, 243, 245, 247, 249, 251, 253, 255, 257, 259, 261, 263, 265, 267, 269, 271, 273, 275, 277, 279, 281, 283, 285, 287, 289, 291, 293, 295, 297, 299, 301, 303, 305, 307, 309, 311, 313, 315, 317, 319, 321, 323, 325, 327, 329, 331, 333, 335, 337, 339, 341, 343, 345, 347, 349, 351, 353, 355, 357, 359, 361, 363, 365, 367, 369, 371, 373, 375, 377, 379, 381, 383, 385, 387, 389, 391, 393, 395, 397, 399, 401, 403, 405, 407, 409, 411, 413, 415, 417, 419, 421, 423, 425, 427, 429, 431, 433, 435, 437, 439, 441, 443, 445, 447, 449, 451, 453, 455, 457, 459, 461, 463, 465, 467, 469, 471, 473, 475, 477, 479, 481, 483, 485, 487, 489, 491, 493, 495, 497, 499, 501, 503, 505, 507, 509, 511, 513, 515, 517, 519, 521, 523, 525, 527, 529, 531, 533, 535, 537, 539, 541, 543, 545, 547, 549, 551, 553, 555, 557, 559, 561, 563, 565, 567, 569, 571, 573, 575, 577, 579, 581, 583, 585, 587, 589, 591, 593, 595, 597, 599, 601, 603, 605, 607, 609, 611, 613, 615, 617, 619, 621, 623, 625, 627, 629, 631, 633, 635, 637, 639, 641, 643, 645, 647, 649, 651, 653, 655, 657, 659, 661, 663, 665, 667, 669, 671, 673, 675, 677, 679, 681, 683, 685, 687, 689, 691, 693, 695, 697, 699, 701, 703, 705, 707, 709, 711, 713, 715, 717, 719, 721, 723, 725, 727, 729, 731, 733, 735, 737, 739, 741, 743, 745, 747, 749, 751, 753, 755, 757, 759, 761, 763, 765, 767, 769, 771, 773, 775, 777, 779, 781, 783, 785, 787, 789, 791, 793, 795, 797, 799, 801, 803, 805, 807, 809, 811, 813, 815, 817, 819, 821, 823, 825, 827, 829, 831, 833, 835, 837, 839, 841, 843, 845, 847, 849, 851, 853, 855, 857, 859, 861, 863, 865, 867, 869, 871, 873, 875, 877, 879, 881, 883, 885, 887, 889, 891, 893, 895, 897, 899, 901, 903, 905, 907, 909, 911, 913, 915, 917, 919, 921, 923, 925, 927, 929, 931, 933, 935, 937, 939, 941, 943, 945, 947, 949, 951, 953, 955, 957, 959, 961, 963, 965, 967, 969, 971, 973, 975, 977, 979, 981, 983, 985, 987, 989, 991, 993, 995, 997, 999]\n"
     ]
    }
   ],
   "source": [
    "# Write your code here\n",
    "l = [i for i in range(1,1001) if i%2!=0]\n",
    "print(l)"
   ]
  },
  {
   "cell_type": "markdown",
   "id": "6eaf61f6-df61-45ab-8f04-a754398c0dd7",
   "metadata": {},
   "source": [
    "2. Print the version of Python"
   ]
  },
  {
   "cell_type": "code",
   "execution_count": 7,
   "id": "695dcb3f-a5ef-4f11-b099-dcdf35755585",
   "metadata": {},
   "outputs": [
    {
     "name": "stdout",
     "output_type": "stream",
     "text": [
      "Python 3.13.2\n"
     ]
    }
   ],
   "source": [
    "# Write your code here\n",
    "!python --version"
   ]
  },
  {
   "cell_type": "markdown",
   "id": "4efb5363-d0a2-4002-819b-3b3457019d3b",
   "metadata": {},
   "source": [
    "3. List all non-empty Substrings of \"programmer\""
   ]
  },
  {
   "cell_type": "code",
   "execution_count": 8,
   "id": "74c5bde5-2b6c-4824-a028-e4db3d0dd3e5",
   "metadata": {},
   "outputs": [
    {
     "name": "stdout",
     "output_type": "stream",
     "text": [
      "['p', 'pr', 'pro', 'prog', 'progr', 'progra', 'program', 'programm', 'programme', 'programmer', 'r', 'ro', 'rog', 'rogr', 'rogra', 'rogram', 'rogramm', 'rogramme', 'rogrammer', 'o', 'og', 'ogr', 'ogra', 'ogram', 'ogramm', 'ogramme', 'ogrammer', 'g', 'gr', 'gra', 'gram', 'gramm', 'gramme', 'grammer', 'r', 'ra', 'ram', 'ramm', 'ramme', 'rammer', 'a', 'am', 'amm', 'amme', 'ammer', 'm', 'mm', 'mme', 'mmer', 'm', 'me', 'mer', 'e', 'er', 'r']\n"
     ]
    }
   ],
   "source": [
    "# Write your code here\n",
    "w=\"programmer\"\n",
    "l=[w[i:j+1] for i in range(len(w)) for j in range(i,len(w))]\n",
    "print(l)"
   ]
  },
  {
   "cell_type": "markdown",
   "id": "07ec979e-3997-42fa-89eb-9a614e66db1d",
   "metadata": {},
   "source": [
    "4. Print current system time"
   ]
  },
  {
   "cell_type": "code",
   "execution_count": 9,
   "id": "4c514f2a-f444-40fa-8da6-0f6283a27644",
   "metadata": {},
   "outputs": [
    {
     "data": {
      "text/plain": [
       "'08/08/2025, 20:34:17'"
      ]
     },
     "execution_count": 9,
     "metadata": {},
     "output_type": "execute_result"
    }
   ],
   "source": [
    "# Write your code here\n",
    "from datetime import datetime\n",
    "datetime.now().strftime(\"%m/%d/%Y, %H:%M:%S\")"
   ]
  },
  {
   "cell_type": "markdown",
   "id": "0a6c165d-542f-4e70-b4ac-8a8f8dae90e7",
   "metadata": {},
   "source": [
    "5. Send a HTTP GET request to this page: https://en.wikipedia.org/wiki/Python_(programming_language)"
   ]
  },
  {
   "cell_type": "code",
   "execution_count": 10,
   "id": "c3b3a094-bc2d-4e37-b58a-66b94ce73568",
   "metadata": {},
   "outputs": [
    {
     "data": {
      "text/plain": [
       "200"
      ]
     },
     "execution_count": 10,
     "metadata": {},
     "output_type": "execute_result"
    }
   ],
   "source": [
    "# Write your code here\n",
    "\n",
    "import requests\n",
    "r=requests.get(\"https://en.wikipedia.org/wiki/Python_(programming_language)\")\n",
    "r.status_code"
   ]
  },
  {
   "cell_type": "markdown",
   "id": "473676a0",
   "metadata": {},
   "source": [
    "6. Compute the SHA-256 hash of your Name"
   ]
  },
  {
   "cell_type": "code",
   "execution_count": 11,
   "id": "a46134e4-cae6-41f0-b336-79cc74c9a4f8",
   "metadata": {},
   "outputs": [],
   "source": [
    "# write your code here"
   ]
  },
  {
   "cell_type": "markdown",
   "id": "ad5377f2",
   "metadata": {},
   "source": [
    "7. Print all the possible subarrays of [1, 2, 3, 4, 5, 6]"
   ]
  },
  {
   "cell_type": "code",
   "execution_count": null,
   "id": "4888d6c9",
   "metadata": {},
   "outputs": [],
   "source": [
    "# write your code here"
   ]
  },
  {
   "cell_type": "markdown",
   "id": "f38d00b4",
   "metadata": {},
   "source": [
    "8. Upgrade the Pandas package using pip"
   ]
  },
  {
   "cell_type": "code",
   "execution_count": null,
   "id": "9cb8d6ca",
   "metadata": {},
   "outputs": [],
   "source": [
    "# write your code here"
   ]
  },
  {
   "cell_type": "markdown",
   "id": "716d74ba",
   "metadata": {},
   "source": [
    "9. Print english alphabet lowercase using list comprehension"
   ]
  },
  {
   "cell_type": "code",
   "execution_count": null,
   "id": "bfb0e608",
   "metadata": {},
   "outputs": [],
   "source": [
    "# Write your code here"
   ]
  },
  {
   "cell_type": "markdown",
   "id": "2bb93624",
   "metadata": {},
   "source": [
    "10. Find the next prime number after 1001"
   ]
  },
  {
   "cell_type": "code",
   "execution_count": null,
   "id": "7c27883c",
   "metadata": {},
   "outputs": [],
   "source": [
    "#  write your code here"
   ]
  }
 ],
 "metadata": {
  "kernelspec": {
   "display_name": "Python 3",
   "language": "python",
   "name": "python3"
  },
  "language_info": {
   "codemirror_mode": {
    "name": "ipython",
    "version": 3
   },
   "file_extension": ".py",
   "mimetype": "text/x-python",
   "name": "python",
   "nbconvert_exporter": "python",
   "pygments_lexer": "ipython3",
   "version": "3.13.2"
  }
 },
 "nbformat": 4,
 "nbformat_minor": 5
}
