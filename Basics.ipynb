{
 "cells": [
  {
   "cell_type": "markdown",
   "id": "b72ccb03",
   "metadata": {},
   "source": [
    "# Python Basics Exercises"
   ]
  },
  {
   "cell_type": "markdown",
   "id": "b7973bb9-00cb-454e-9f16-3a118fb6c5d2",
   "metadata": {},
   "source": [
    "1. Make a List of all Odd Numbers from 1 to 1000 using List Comprehension"
   ]
  },
  {
   "cell_type": "code",
   "execution_count": 1,
   "id": "34e109e9-5b6d-4f30-a65d-bbdee8be47bb",
   "metadata": {},
   "outputs": [],
   "source": [
    "# Write your code here"
   ]
  },
  {
   "cell_type": "markdown",
   "id": "6eaf61f6-df61-45ab-8f04-a754398c0dd7",
   "metadata": {},
   "source": [
    "2. Print the version of Python"
   ]
  },
  {
   "cell_type": "code",
   "execution_count": null,
   "id": "695dcb3f-a5ef-4f11-b099-dcdf35755585",
   "metadata": {},
   "outputs": [],
   "source": [
    "# Write your code here"
   ]
  },
  {
   "cell_type": "markdown",
   "id": "4efb5363-d0a2-4002-819b-3b3457019d3b",
   "metadata": {},
   "source": [
    "3. List all non-empty Substrings of \"programmer\""
   ]
  },
  {
   "cell_type": "code",
   "execution_count": null,
   "id": "74c5bde5-2b6c-4824-a028-e4db3d0dd3e5",
   "metadata": {},
   "outputs": [],
   "source": [
    "# Write your code here"
   ]
  },
  {
   "cell_type": "markdown",
   "id": "07ec979e-3997-42fa-89eb-9a614e66db1d",
   "metadata": {},
   "source": [
    "4. Print current system time"
   ]
  },
  {
   "cell_type": "code",
   "execution_count": null,
   "id": "4c514f2a-f444-40fa-8da6-0f6283a27644",
   "metadata": {},
   "outputs": [],
   "source": [
    "# Write your code here"
   ]
  },
  {
   "cell_type": "markdown",
   "id": "0a6c165d-542f-4e70-b4ac-8a8f8dae90e7",
   "metadata": {},
   "source": [
    "5. Send a HTTP GET request to this page: https://en.wikipedia.org/wiki/Python_(programming_language)"
   ]
  },
  {
   "cell_type": "code",
   "execution_count": 3,
   "id": "c3b3a094-bc2d-4e37-b58a-66b94ce73568",
   "metadata": {},
   "outputs": [],
   "source": [
    "# Write your code here"
   ]
  }
 ],
 "metadata": {
  "kernelspec": {
   "display_name": "Python 3 (ipykernel)",
   "language": "python",
   "name": "python3"
  },
  "language_info": {
   "codemirror_mode": {
    "name": "ipython",
    "version": 3
   },
   "file_extension": ".py",
   "mimetype": "text/x-python",
   "name": "python",
   "nbconvert_exporter": "python",
   "pygments_lexer": "ipython3",
   "version": "3.13.2"
  }
 },
 "nbformat": 4,
 "nbformat_minor": 5
}
